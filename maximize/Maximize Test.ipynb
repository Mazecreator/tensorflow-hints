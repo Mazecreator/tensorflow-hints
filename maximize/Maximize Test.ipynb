{
 "cells": [
  {
   "cell_type": "code",
   "execution_count": 45,
   "metadata": {
    "collapsed": false
   },
   "outputs": [
    {
     "name": "stdout",
     "output_type": "stream",
     "text": [
      "Var0 [ 1.  2.]\n",
      "Var1 [ 3.  4.]\n",
      "grad Tensor(\"gradients_1/mul_grad/tuple/control_dependency_1:0\", shape=(2,), dtype=float32) [ 5.  5.] var Variable:0\n",
      "grad Tensor(\"gradients_1/mul_1_grad/tuple/control_dependency_1:0\", shape=(2,), dtype=float32) [ 3.  3.] var Variable_1:0\n",
      "grad None NONE var global_step:0\n",
      "MinVar0 [-14. -13.]\n",
      "MinVar1 [-6. -5.]\n"
     ]
    }
   ],
   "source": [
    "import tensorflow as tf\n",
    "\n",
    "tf.reset_default_graph()\n",
    "with tf.Session() as sess:\n",
    "        \n",
    "        var0 = tf.Variable([1.0, 2.0], dtype=tf.float32)\n",
    "        var1 = tf.Variable([3.0, 4.0], dtype=tf.float32)\n",
    "        cost = 5 * var0 + 3 * var1\n",
    "        global_step = tf.Variable(tf.zeros([], tf.int64), name='global_step')\n",
    "        sgd_op = tf.train.GradientDescentOptimizer(learning_rate=3.0)\n",
    "        opt_op = sgd_op.minimize(cost, global_step=global_step, var_list= [var0, var1])\n",
    "\n",
    "        tf.initialize_all_variables().run()\n",
    "        \n",
    "        grads_and_vars = sgd_op.compute_gradients(cost)\n",
    "        \n",
    "        # Fetch params to validate initial values\n",
    "        print \"Var0\",sess.run(var0)\n",
    "        print \"Var1\",sess.run(var1)\n",
    "        \n",
    "        # Run 1 step of sgd through optimizer\n",
    "        sess.run(opt_op)\n",
    "        \n",
    "        for grad,var in grads_and_vars:\n",
    "            if grad is not None:\n",
    "                print \"grad\",grad,sess.run(grad),\"var\",var.name\n",
    "            else:\n",
    "                print \"grad\",grad,\"NONE\",\"var\",var.name\n",
    "        # Validate updated params\n",
    "        print \"MinVar0\",sess.run(var0)\n",
    "        print \"MinVar1\",sess.run(var1)       "
   ]
  },
  {
   "cell_type": "code",
   "execution_count": 43,
   "metadata": {
    "collapsed": false
   },
   "outputs": [
    {
     "name": "stdout",
     "output_type": "stream",
     "text": [
      "Var0 [ 1.  2.]\n",
      "Var1 [ 3.  4.]\n",
      "grad Tensor(\"gradients_1/mul_grad/tuple/control_dependency_1:0\", shape=(2,), dtype=float32) [ 5.  5.] var Variable:0\n",
      "grad None NONE var Variable_1:0\n",
      "grad None NONE var global_step:0\n",
      "MinVar0 [ 16.  17.]\n",
      "MinVar1 [ 3.  4.]\n"
     ]
    }
   ],
   "source": [
    "\n",
    "def maximize(optimizer, value, **kwargs):\n",
    "  return optimizer.minimize(cost=-value, **kwargs)\n",
    "\n",
    "tf.reset_default_graph()\n",
    "with tf.Session() as sess:\n",
    "        \n",
    "        var0 = tf.Variable([1.0, 2.0], dtype=tf.float32)\n",
    "        var1 = tf.Variable([3.0, 4.0], dtype=tf.float32)\n",
    "        value = 5 * var0 + 3 * tf.stop_gradient(var1)\n",
    "        global_step = tf.Variable(tf.zeros([], tf.int64), name='global_step')\n",
    "        sgd_op = tf.train.GradientDescentOptimizer(learning_rate=3.0)\n",
    "        opt_op = sgd_op.maximize(value, global_step=global_step, var_list= [var0])\n",
    "\n",
    "        tf.initialize_all_variables().run()\n",
    "        \n",
    "        grads_and_vars = sgd_op.compute_gradients(value)\n",
    "        \n",
    "        # Fetch params to validate initial values\n",
    "        print \"Var0\",sess.run(var0)\n",
    "        print \"Var1\",sess.run(var1)\n",
    "        \n",
    "        # Run 1 step of sgd through optimizer\n",
    "        sess.run(opt_op)\n",
    "        \n",
    "        for grad,var in grads_and_vars:\n",
    "            if grad is not None:\n",
    "                print \"grad\",grad,sess.run(grad),\"var\",var.name\n",
    "            else:\n",
    "                print \"grad\",grad,\"NONE\",\"var\",var.name\n",
    "        # Validate updated params\n",
    "        print \"MinVar0\",sess.run(var0)\n",
    "        print \"MinVar1\",sess.run(var1)       "
   ]
  },
  {
   "cell_type": "code",
   "execution_count": null,
   "metadata": {
    "collapsed": true
   },
   "outputs": [],
   "source": []
  }
 ],
 "metadata": {
  "kernelspec": {
   "display_name": "Python 2",
   "language": "python",
   "name": "python2"
  },
  "language_info": {
   "codemirror_mode": {
    "name": "ipython",
    "version": 2
   },
   "file_extension": ".py",
   "mimetype": "text/x-python",
   "name": "python",
   "nbconvert_exporter": "python",
   "pygments_lexer": "ipython2",
   "version": "2.7.12"
  }
 },
 "nbformat": 4,
 "nbformat_minor": 0
}
